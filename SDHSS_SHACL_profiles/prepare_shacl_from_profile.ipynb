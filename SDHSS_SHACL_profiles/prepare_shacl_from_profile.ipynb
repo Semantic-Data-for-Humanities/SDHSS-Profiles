{
 "cells": [
  {
   "cell_type": "markdown",
   "metadata": {},
   "source": [
    "## Prepare example SHACL profiles from JSON API"
   ]
  },
  {
   "cell_type": "code",
   "execution_count": 1,
   "metadata": {},
   "outputs": [],
   "source": [
    "import requests\n",
    "import pprint\n",
    "import pandas as pd"
   ]
  },
  {
   "cell_type": "code",
   "execution_count": null,
   "metadata": {},
   "outputs": [],
   "source": [
    "profile_id = 198\n",
    "profile_classes_url = 'https://ontome.net/api/classes-profile.json?lang=en&available-in-profile=' + str(profile_id)\n",
    "\n",
    "try:\n",
    "    response = requests.get(profile_classes_url)\n",
    "    json_classes = response.json()\n",
    "    print(len(str(json_classes)))\n",
    "except Exception as e:\n",
    "    print(e)\n"
   ]
  },
  {
   "cell_type": "code",
   "execution_count": null,
   "metadata": {},
   "outputs": [],
   "source": [
    "json_classes"
   ]
  },
  {
   "cell_type": "code",
   "execution_count": 14,
   "metadata": {},
   "outputs": [
    {
     "data": {
      "text/plain": [
       "['@prefix crm: http://www.cidoc-crm.org/cidoc-crm/.',\n",
       " '@prefix sdh: https://sdhss.org/ontology/core/.']"
      ]
     },
     "execution_count": 14,
     "metadata": {},
     "output_type": "execute_result"
    }
   ],
   "source": [
    "l = []\n",
    "\n",
    "for cla in json_classes:\n",
    "    l.append('@prefix ' + cla[\"namespacePrefix\"] + ': ' + cla[\"namespaceURI\"] + '.')\n",
    "\n",
    "classes_prefixes = list(pd.unique(pd.DataFrame(l)[0]))\n",
    "\n",
    "classes_prefixes"
   ]
  },
  {
   "cell_type": "code",
   "execution_count": 5,
   "metadata": {},
   "outputs": [
    {
     "data": {
      "text/html": [
       "<div>\n",
       "<style scoped>\n",
       "    .dataframe tbody tr th:only-of-type {\n",
       "        vertical-align: middle;\n",
       "    }\n",
       "\n",
       "    .dataframe tbody tr th {\n",
       "        vertical-align: top;\n",
       "    }\n",
       "\n",
       "    .dataframe thead th {\n",
       "        text-align: right;\n",
       "    }\n",
       "</style>\n",
       "<table border=\"1\" class=\"dataframe\">\n",
       "  <thead>\n",
       "    <tr style=\"text-align: right;\">\n",
       "      <th></th>\n",
       "      <th>0</th>\n",
       "      <th>1</th>\n",
       "      <th>2</th>\n",
       "      <th>3</th>\n",
       "      <th>4</th>\n",
       "      <th>5</th>\n",
       "    </tr>\n",
       "  </thead>\n",
       "  <tbody>\n",
       "    <tr>\n",
       "      <th>0</th>\n",
       "      <td>crm</td>\n",
       "      <td>http://www.cidoc-crm.org/cidoc-crm/</td>\n",
       "      <td>E21</td>\n",
       "      <td>Person</td>\n",
       "      <td>8</td>\n",
       "      <td>[1, 18, 19, 64, 66, 70, 83, 375, 380, 539, 881]</td>\n",
       "    </tr>\n",
       "    <tr>\n",
       "      <th>1</th>\n",
       "      <td>crm</td>\n",
       "      <td>http://www.cidoc-crm.org/cidoc-crm/</td>\n",
       "      <td>E67</td>\n",
       "      <td>Birth</td>\n",
       "      <td>9</td>\n",
       "      <td>[1, 2, 4, 5, 83, 380, 539]</td>\n",
       "    </tr>\n",
       "    <tr>\n",
       "      <th>2</th>\n",
       "      <td>crm</td>\n",
       "      <td>http://www.cidoc-crm.org/cidoc-crm/</td>\n",
       "      <td>E69</td>\n",
       "      <td>Death</td>\n",
       "      <td>9</td>\n",
       "      <td>[1, 2, 4, 5, 83, 380, 539]</td>\n",
       "    </tr>\n",
       "    <tr>\n",
       "      <th>3</th>\n",
       "      <td>sdh</td>\n",
       "      <td>https://sdhss.org/ontology/core/</td>\n",
       "      <td>C13</td>\n",
       "      <td>Geographical Place</td>\n",
       "      <td>8</td>\n",
       "      <td>[1, 18, 64, 66, 70, 83, 375, 380, 539]</td>\n",
       "    </tr>\n",
       "    <tr>\n",
       "      <th>4</th>\n",
       "      <td>sdh</td>\n",
       "      <td>https://sdhss.org/ontology/core/</td>\n",
       "      <td>C17</td>\n",
       "      <td>Construction</td>\n",
       "      <td>8</td>\n",
       "      <td>[1, 18, 64, 65, 66, 70, 83, 375, 380, 539]</td>\n",
       "    </tr>\n",
       "  </tbody>\n",
       "</table>\n",
       "</div>"
      ],
      "text/plain": [
       "     0                                    1    2                   3  4  \\\n",
       "0  crm  http://www.cidoc-crm.org/cidoc-crm/  E21              Person  8   \n",
       "1  crm  http://www.cidoc-crm.org/cidoc-crm/  E67               Birth  9   \n",
       "2  crm  http://www.cidoc-crm.org/cidoc-crm/  E69               Death  9   \n",
       "3  sdh     https://sdhss.org/ontology/core/  C13  Geographical Place  8   \n",
       "4  sdh     https://sdhss.org/ontology/core/  C17        Construction  8   \n",
       "\n",
       "                                                 5  \n",
       "0  [1, 18, 19, 64, 66, 70, 83, 375, 380, 539, 881]  \n",
       "1                       [1, 2, 4, 5, 83, 380, 539]  \n",
       "2                       [1, 2, 4, 5, 83, 380, 539]  \n",
       "3           [1, 18, 64, 66, 70, 83, 375, 380, 539]  \n",
       "4       [1, 18, 64, 65, 66, 70, 83, 375, 380, 539]  "
      ]
     },
     "execution_count": 5,
     "metadata": {},
     "output_type": "execute_result"
    }
   ],
   "source": [
    "### Classes and their elements\n",
    "lc = []\n",
    "for cla in json_classes:\n",
    "    lc.append([cla['namespacePrefix'] , cla[\"namespaceURI\"], cla[\"classIdentifierInNamespace\"], \n",
    "               cla[\"classLabel\"], cla[\"entityBasicType\"], cla[\"ancestorClasses\"]])\n",
    "\n",
    "df_lc = pd.DataFrame(lc)\n",
    "df_lc"
   ]
  },
  {
   "cell_type": "code",
   "execution_count": 6,
   "metadata": {},
   "outputs": [
    {
     "name": "stdout",
     "output_type": "stream",
     "text": [
      "7515\n"
     ]
    }
   ],
   "source": [
    "profile_id = 198\n",
    "profile_properties_url = 'https://ontome.net/api/properties-profile.json?lang=en&available-in-profile=' + str(profile_id)\n",
    "\n",
    "try:\n",
    "    response = requests.get(profile_properties_url)\n",
    "    json_properties = response.json()\n",
    "    print(len(str(json_properties)))\n",
    "except Exception as e:\n",
    "    print(e)\n"
   ]
  },
  {
   "cell_type": "code",
   "execution_count": null,
   "metadata": {},
   "outputs": [],
   "source": [
    "json_properties"
   ]
  },
  {
   "cell_type": "code",
   "execution_count": 8,
   "metadata": {},
   "outputs": [
    {
     "data": {
      "text/plain": [
       "['@prefix crm: http://www.cidoc-crm.org/cidoc-crm/.',\n",
       " '@prefix sdh: https://sdhss.org/ontology/core/.']"
      ]
     },
     "execution_count": 8,
     "metadata": {},
     "output_type": "execute_result"
    }
   ],
   "source": [
    "l = []\n",
    "\n",
    "for prop in json_properties:\n",
    "    l.append('@prefix ' + prop[\"namespacePrefix\"] + ': ' + prop[\"namespaceURI\"] + '.')\n",
    "\n",
    "properties_prefixes = list(pd.unique(pd.DataFrame(l)[0]))\n",
    "\n",
    "properties_prefixes"
   ]
  },
  {
   "cell_type": "code",
   "execution_count": 12,
   "metadata": {},
   "outputs": [
    {
     "data": {
      "text/html": [
       "<div>\n",
       "<style scoped>\n",
       "    .dataframe tbody tr th:only-of-type {\n",
       "        vertical-align: middle;\n",
       "    }\n",
       "\n",
       "    .dataframe tbody tr th {\n",
       "        vertical-align: top;\n",
       "    }\n",
       "\n",
       "    .dataframe thead th {\n",
       "        text-align: right;\n",
       "    }\n",
       "</style>\n",
       "<table border=\"1\" class=\"dataframe\">\n",
       "  <thead>\n",
       "    <tr style=\"text-align: right;\">\n",
       "      <th></th>\n",
       "      <th>0</th>\n",
       "      <th>1</th>\n",
       "      <th>2</th>\n",
       "      <th>3</th>\n",
       "      <th>4</th>\n",
       "      <th>5</th>\n",
       "      <th>6</th>\n",
       "      <th>7</th>\n",
       "      <th>8</th>\n",
       "    </tr>\n",
       "  </thead>\n",
       "  <tbody>\n",
       "    <tr>\n",
       "      <th>0</th>\n",
       "      <td>61</td>\n",
       "      <td>0</td>\n",
       "      <td>-1</td>\n",
       "      <td>crm</td>\n",
       "      <td>http://www.cidoc-crm.org/cidoc-crm/</td>\n",
       "      <td>P8</td>\n",
       "      <td>441</td>\n",
       "      <td>0</td>\n",
       "      <td>-1</td>\n",
       "    </tr>\n",
       "    <tr>\n",
       "      <th>1</th>\n",
       "      <td>63</td>\n",
       "      <td>0</td>\n",
       "      <td>-1</td>\n",
       "      <td>crm</td>\n",
       "      <td>http://www.cidoc-crm.org/cidoc-crm/</td>\n",
       "      <td>P8</td>\n",
       "      <td>441</td>\n",
       "      <td>0</td>\n",
       "      <td>-1</td>\n",
       "    </tr>\n",
       "    <tr>\n",
       "      <th>2</th>\n",
       "      <td>61</td>\n",
       "      <td>1</td>\n",
       "      <td>1</td>\n",
       "      <td>crm</td>\n",
       "      <td>http://www.cidoc-crm.org/cidoc-crm/</td>\n",
       "      <td>P98</td>\n",
       "      <td>21</td>\n",
       "      <td>0</td>\n",
       "      <td>-1</td>\n",
       "    </tr>\n",
       "    <tr>\n",
       "      <th>3</th>\n",
       "      <td>63</td>\n",
       "      <td>0</td>\n",
       "      <td>1</td>\n",
       "      <td>crm</td>\n",
       "      <td>http://www.cidoc-crm.org/cidoc-crm/</td>\n",
       "      <td>P100</td>\n",
       "      <td>21</td>\n",
       "      <td>1</td>\n",
       "      <td>-1</td>\n",
       "    </tr>\n",
       "    <tr>\n",
       "      <th>4</th>\n",
       "      <td>61</td>\n",
       "      <td>0</td>\n",
       "      <td>-1</td>\n",
       "      <td>sdh</td>\n",
       "      <td>https://sdhss.org/ontology/core/</td>\n",
       "      <td>P6</td>\n",
       "      <td>363</td>\n",
       "      <td>1</td>\n",
       "      <td>-1</td>\n",
       "    </tr>\n",
       "    <tr>\n",
       "      <th>5</th>\n",
       "      <td>63</td>\n",
       "      <td>0</td>\n",
       "      <td>-1</td>\n",
       "      <td>sdh</td>\n",
       "      <td>https://sdhss.org/ontology/core/</td>\n",
       "      <td>P6</td>\n",
       "      <td>363</td>\n",
       "      <td>1</td>\n",
       "      <td>-1</td>\n",
       "    </tr>\n",
       "  </tbody>\n",
       "</table>\n",
       "</div>"
      ],
      "text/plain": [
       "    0  1  2    3                                    4     5    6  7  8\n",
       "0  61  0 -1  crm  http://www.cidoc-crm.org/cidoc-crm/    P8  441  0 -1\n",
       "1  63  0 -1  crm  http://www.cidoc-crm.org/cidoc-crm/    P8  441  0 -1\n",
       "2  61  1  1  crm  http://www.cidoc-crm.org/cidoc-crm/   P98   21  0 -1\n",
       "3  63  0  1  crm  http://www.cidoc-crm.org/cidoc-crm/  P100   21  1 -1\n",
       "4  61  0 -1  sdh     https://sdhss.org/ontology/core/    P6  363  1 -1\n",
       "5  63  0 -1  sdh     https://sdhss.org/ontology/core/    P6  363  1 -1"
      ]
     },
     "execution_count": 12,
     "metadata": {},
     "output_type": "execute_result"
    }
   ],
   "source": [
    "### properties and their elements\n",
    "lp = []\n",
    "for prop in json_properties:\n",
    "    lp.append([ prop[\"propertyDomain\"], prop[\"domainInstancesMinQuantifier\"], prop[\"domainInstancesMaxQuantifier\"], \n",
    "               prop['namespacePrefix'], prop['namespaceURI'], prop[\"propertyIdentifierInNamespace\"], \n",
    "               prop[\"propertyRange\"], prop[\"rangeInstancesMinQuantifier\"],prop[\"rangeInstancesMaxQuantifier\"]])\n",
    "\n",
    "df_lp = pd.DataFrame(lp)\n",
    "df_lp"
   ]
  },
  {
   "cell_type": "code",
   "execution_count": 18,
   "metadata": {},
   "outputs": [
    {
     "name": "stdout",
     "output_type": "stream",
     "text": [
      "@prefix crm: http://www.cidoc-crm.org/cidoc-crm/.\n",
      "@prefix sdh: https://sdhss.org/ontology/core/.\n"
     ]
    }
   ],
   "source": [
    "ns_list = list(set(classes_prefixes + properties_prefixes))\n",
    "ns_list_txt = '\\n'.join(ns_list)\n",
    "print(ns_list_txt)"
   ]
  },
  {
   "cell_type": "code",
   "execution_count": null,
   "metadata": {},
   "outputs": [],
   "source": [
    "for e in lc[:1]:\n",
    "    pprint.pprint(e)"
   ]
  },
  {
   "cell_type": "code",
   "execution_count": 23,
   "metadata": {},
   "outputs": [
    {
     "name": "stdout",
     "output_type": "stream",
     "text": [
      "\n",
      "    sdh-shacl:crm_PersonShape a sh:NodeShape ;\n",
      "        sh:targetClass crm:E67 ;\n",
      "        rdfs:label 'Birth'\n",
      "\n",
      "        sh:property [\n",
      "            sh:path rdfs:label ;\n",
      "            sh:datatype xsd:string;\n",
      "            sh:minCount 1;\n",
      "            sh:maxCount 1;\n",
      "            ];\n",
      "\n",
      "        sh:property [\n",
      "            sh:path rdfs:comment ;\n",
      "            sh:datatype rdf:HTML;\n",
      "            sh:minCount 1;\n",
      "            sh:maxCount 1;\n",
      "            ];   \n",
      "\n",
      "        sh:property [\n",
      "            sh:path [ sh:inversePath crm:P98_brought_into_life ] ;\n",
      "            sh:minCount 1 ;\n",
      "            sh:maxCount 1 ;\n",
      "        ] ;    \n",
      "\n",
      "    \n"
     ]
    }
   ],
   "source": [
    "shacl_prof = ''\n",
    "\n",
    "for e in lc[1:2]:\n",
    "    shacl_prof += \"\"\"\n",
    "    sdh-shacl:{0}_PersonShape a sh:NodeShape ;\n",
    "        sh:targetClass {0}:{1} ;\n",
    "        rdfs:label '{2}'\n",
    "\n",
    "        sh:property [\n",
    "            sh:path rdfs:label ;\n",
    "            sh:datatype xsd:string;\n",
    "            sh:minCount 1;\n",
    "            sh:maxCount 1;\n",
    "            ];\n",
    "\n",
    "        sh:property [\n",
    "            sh:path rdfs:comment ;\n",
    "            sh:datatype rdf:HTML;\n",
    "            sh:minCount 1;\n",
    "            sh:maxCount 1;\n",
    "            ];   \n",
    "\n",
    "        sh:property [\n",
    "            sh:path [ sh:inversePath crm:P98_brought_into_life ] ;\n",
    "            sh:minCount 1 ;\n",
    "            sh:maxCount 1 ;\n",
    "        ] ;    \n",
    "\n",
    "    \"\"\".format(e[0], e[2], e[3])\n",
    "\n",
    "print(shacl_prof)"
   ]
  },
  {
   "cell_type": "code",
   "execution_count": null,
   "metadata": {},
   "outputs": [],
   "source": []
  },
  {
   "cell_type": "code",
   "execution_count": null,
   "metadata": {},
   "outputs": [],
   "source": []
  },
  {
   "cell_type": "code",
   "execution_count": null,
   "metadata": {},
   "outputs": [],
   "source": []
  }
 ],
 "metadata": {
  "kernelspec": {
   "display_name": "py310_html_xml",
   "language": "python",
   "name": "py310_html_xml"
  },
  "language_info": {
   "codemirror_mode": {
    "name": "ipython",
    "version": 3
   },
   "file_extension": ".py",
   "mimetype": "text/x-python",
   "name": "python",
   "nbconvert_exporter": "python",
   "pygments_lexer": "ipython3",
   "version": "3.10.8"
  }
 },
 "nbformat": 4,
 "nbformat_minor": 2
}
